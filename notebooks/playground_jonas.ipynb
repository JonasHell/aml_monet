{
  "nbformat": 4,
  "nbformat_minor": 2,
  "metadata": {
    "colab": {
      "name": "playground_jonas.ipynb",
      "provenance": [],
      "authorship_tag": "ABX9TyPh1x7K4kNV1CQMuL1hN44U",
      "include_colab_link": true
    },
    "kernelspec": {
      "name": "python3",
      "display_name": "Python 3"
    },
    "language_info": {
      "name": "python"
    }
  },
  "cells": [
    {
      "cell_type": "markdown",
      "source": [
        "<a href=\"https://colab.research.google.com/github/JonasHell/aml_monet/blob/main/notebooks/playground_jonas.ipynb\" target=\"_parent\"><img src=\"https://colab.research.google.com/assets/colab-badge.svg\" alt=\"Open In Colab\"/></a>"
      ],
      "metadata": {
        "id": "view-in-github",
        "colab_type": "text"
      }
    },
    {
      "cell_type": "code",
      "execution_count": 13,
      "source": [
        "!ssh-keygen -t rsa -b 4096\r\n",
        "!ssh-keyscan -t rsa github.com >> ~/.ssh/known_hosts\r\n",
        "!cat /root/.ssh/id_rsa.pub\r\n",
        "!ssh -T git@github.com\r\n",
        "cd aml_monet"
      ],
      "outputs": [
        {
          "output_type": "stream",
          "name": "stdout",
          "text": [
            "Generating public/private rsa key pair.\n",
            "Enter file in which to save the key (/root/.ssh/id_rsa): \n",
            "/root/.ssh/id_rsa already exists.\n",
            "Overwrite (y/n)? \n"
          ]
        }
      ],
      "metadata": {
        "id": "X7MIFdLpPsXt",
        "outputId": "d1492c65-3842-4dab-d31b-751d9107c244",
        "colab": {
          "base_uri": "https://localhost:8080/"
        }
      }
    },
    {
      "cell_type": "code",
      "execution_count": 10,
      "source": [
        "from source.test import test_func\r\n",
        "test_func(\"hi\")"
      ],
      "outputs": [],
      "metadata": {}
    }
  ]
}