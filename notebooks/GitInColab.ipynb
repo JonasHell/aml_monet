{
  "nbformat": 4,
  "nbformat_minor": 0,
  "metadata": {
    "colab": {
      "name": "GitInColab.ipynb",
      "provenance": [],
      "authorship_tag": "ABX9TyP8jO4BlfD2zXjxWLLnDsUR",
      "include_colab_link": true
    },
    "kernelspec": {
      "name": "python3",
      "display_name": "Python 3"
    },
    "language_info": {
      "name": "python"
    }
  },
  "cells": [
    {
      "cell_type": "markdown",
      "metadata": {
        "id": "view-in-github",
        "colab_type": "text"
      },
      "source": [
        "<a href=\"https://colab.research.google.com/github/JonasHell/aml_monet/blob/main/notebooks/GitInColab.ipynb\" target=\"_parent\"><img src=\"https://colab.research.google.com/assets/colab-badge.svg\" alt=\"Open In Colab\"/></a>"
      ]
    },
    {
      "cell_type": "markdown",
      "metadata": {
        "id": "0eFTcpTRLzPV"
      },
      "source": [
        "Anleitung von hier:  \n",
        "https://sadiaafrinpurba.github.io/2020/08/31/how-to-clone-github-private-repositories-from-google-colab-using-ssh/"
      ]
    },
    {
      "cell_type": "markdown",
      "metadata": {
        "id": "XGLsoCQgLjbe"
      },
      "source": [
        "Ausführen und einfach überall ENTER drücken."
      ]
    },
    {
      "cell_type": "code",
      "metadata": {
        "colab": {
          "base_uri": "https://localhost:8080/"
        },
        "id": "YGhRcL96Le5q",
        "outputId": "ccb160de-3fc4-4908-bf29-1f5f62f344a2"
      },
      "source": [
        "!ssh-keygen -t rsa -b 4096\n",
        "!ssh-keyscan -t rsa github.com >> ~/.ssh/known_hosts"
      ],
      "execution_count": 1,
      "outputs": [
        {
          "output_type": "stream",
          "name": "stdout",
          "text": [
            "Generating public/private rsa key pair.\n",
            "Enter file in which to save the key (/root/.ssh/id_rsa): \n",
            "Created directory '/root/.ssh'.\n",
            "Enter passphrase (empty for no passphrase): \n",
            "Enter same passphrase again: \n",
            "Your identification has been saved in /root/.ssh/id_rsa.\n",
            "Your public key has been saved in /root/.ssh/id_rsa.pub.\n",
            "The key fingerprint is:\n",
            "SHA256:kb4F9qv0LoRD3ey24A3g1haU9EBenZ3VwhFMQjlcF3c root@28ca02fbec6f\n",
            "The key's randomart image is:\n",
            "+---[RSA 4096]----+\n",
            "|       o+..+oO=*E|\n",
            "|       .o=  *.*.+|\n",
            "|       o*o.  . . |\n",
            "|      ooo+o      |\n",
            "|     o +Soo      |\n",
            "|      = *oo.     |\n",
            "|     . =o=..     |\n",
            "|       .ooo      |\n",
            "|        .oo      |\n",
            "+----[SHA256]-----+\n",
            "# github.com:22 SSH-2.0-babeld-e995f6d1\n",
            "ssh-rsa AAAAB3NzaC1yc2EAAAADAQABAAACAQDJBCFP6RUvIsPdc6UOVoTZbJ6HKTrqWg28WQqaCzYb5NWEIrj8wVRTlGbfRYrxKNGYR+7Hsjd7PaXuvJG+9DXvhBVlGr+bmnimr5jbuHcYpB1vHoAI308aaLJsAa15Z1TQUT/LQt5uZe8NBMB2LEz9VdUOh+vsfyf/NjFMyIjwAqdUCHAkiRpCavR64M25XdlN3FpD2untvp5+dxy69aci59Gp3Q3OzavMm9Cge0yskltbvAI6svHYFp9akRg8ch0xQd0JI0ZYT+VERFPPcNYh1zlMwY6LP0YFBx/M7kq7GyrZvPtPo6etuo4sJ0+oUd3MuBcGPKNQmJcUXqN1uTxoOG5um9WvHDt6T5X+mwq7trpvuIO53t4+g8bJ3JAQ8h2yxA22Inwtt0WzKlKwYX5hNtHCyZCxtp/GeNUaaMfXzpiw+zdXi1kOzGg/2ewru9Vp5Hhd7PiLcp8REkCAqQBHAPK8//zThzJaWuq0yacSuZbKcPN///XcBlmgnBOFac+u4hzq1A2Pd0sNVPJu/DdB9Bb1GT5dqr2emfXw+5b+TFOsMaCnCJpwnki77wBP27FqWyeqW09S8X1LInPuobMmIWGXJSbBn7/u7lOD4O1ziOhGrwu7WwAZ5Jqx6oqKh2vS5pR7Wx3P2J+pSGbBJHt+urxKnM6dlsUbezBed7PPKQ== root@28ca02fbec6f\n"
          ]
        }
      ]
    },
    {
      "cell_type": "code",
      "metadata": {
        "colab": {
          "base_uri": "https://localhost:8080/"
        },
        "id": "KrfHKwtMMHd2",
        "outputId": "942b0f90-0cc9-4ec7-9d1e-9067e3169f56"
      },
      "source": [
        "!cat /root/.ssh/id_rsa.pub"
      ],
      "execution_count": 2,
      "outputs": [
        {
          "output_type": "stream",
          "name": "stdout",
          "text": [
            "ssh-rsa AAAAB3NzaC1yc2EAAAADAQABAAACAQDJBCFP6RUvIsPdc6UOVoTZbJ6HKTrqWg28WQqaCzYb5NWEIrj8wVRTlGbfRYrxKNGYR+7Hsjd7PaXuvJG+9DXvhBVlGr+bmnimr5jbuHcYpB1vHoAI308aaLJsAa15Z1TQUT/LQt5uZe8NBMB2LEz9VdUOh+vsfyf/NjFMyIjwAqdUCHAkiRpCavR64M25XdlN3FpD2untvp5+dxy69aci59Gp3Q3OzavMm9Cge0yskltbvAI6svHYFp9akRg8ch0xQd0JI0ZYT+VERFPPcNYh1zlMwY6LP0YFBx/M7kq7GyrZvPtPo6etuo4sJ0+oUd3MuBcGPKNQmJcUXqN1uTxoOG5um9WvHDt6T5X+mwq7trpvuIO53t4+g8bJ3JAQ8h2yxA22Inwtt0WzKlKwYX5hNtHCyZCxtp/GeNUaaMfXzpiw+zdXi1kOzGg/2ewru9Vp5Hhd7PiLcp8REkCAqQBHAPK8//zThzJaWuq0yacSuZbKcPN///XcBlmgnBOFac+u4hzq1A2Pd0sNVPJu/DdB9Bb1GT5dqr2emfXw+5b+TFOsMaCnCJpwnki77wBP27FqWyeqW09S8X1LInPuobMmIWGXJSbBn7/u7lOD4O1ziOhGrwu7WwAZ5Jqx6oqKh2vS5pR7Wx3P2J+pSGbBJHt+urxKnM6dlsUbezBed7PPKQ== root@28ca02fbec6f\n"
          ]
        }
      ]
    },
    {
      "cell_type": "markdown",
      "metadata": {
        "id": "WjhZuxp3Lp1N"
      },
      "source": [
        "In GitHub gehen und obigen SSH Key hinzufügen (https://docs.github.com/en/github/authenticating-to-github/connecting-to-github-with-ssh/adding-a-new-ssh-key-to-your-github-account)."
      ]
    },
    {
      "cell_type": "code",
      "metadata": {
        "colab": {
          "base_uri": "https://localhost:8080/"
        },
        "id": "m-r_wtCPLTNE",
        "outputId": "b83f5247-1439-45ba-d037-932f507840e4"
      },
      "source": [
        "!ssh -T git@github.com"
      ],
      "execution_count": 3,
      "outputs": [
        {
          "output_type": "stream",
          "name": "stdout",
          "text": [
            "Warning: Permanently added the RSA host key for IP address '192.30.255.113' to the list of known hosts.\r\n",
            "Hi JonasHell! You've successfully authenticated, but GitHub does not provide shell access.\n"
          ]
        }
      ]
    },
    {
      "cell_type": "code",
      "metadata": {
        "colab": {
          "base_uri": "https://localhost:8080/"
        },
        "id": "l1-E5jxMMTV_",
        "outputId": "fcfd17ed-6f79-46c2-f50c-7005eab00100"
      },
      "source": [
        "!git clone git@github.com:JonasHell/aml_monet.git"
      ],
      "execution_count": 4,
      "outputs": [
        {
          "output_type": "stream",
          "name": "stdout",
          "text": [
            "Cloning into 'aml_monet'...\n",
            "remote: Enumerating objects: 7423, done.\u001b[K\n",
            "remote: Counting objects: 100% (7423/7423), done.\u001b[K\n",
            "remote: Compressing objects: 100% (7413/7413), done.\u001b[K\n",
            "remote: Total 7423 (delta 47), reused 7352 (delta 7), pack-reused 0\u001b[K\n",
            "Receiving objects: 100% (7423/7423), 97.35 MiB | 24.15 MiB/s, done.\n",
            "Resolving deltas: 100% (47/47), done.\n"
          ]
        }
      ]
    },
    {
      "cell_type": "code",
      "metadata": {
        "colab": {
          "base_uri": "https://localhost:8080/"
        },
        "id": "oc6_jU_mMApj",
        "outputId": "fcefb093-55fb-4388-e95c-3cb6cb2f2a73"
      },
      "source": [
        "cd aml_monet"
      ],
      "execution_count": 5,
      "outputs": [
        {
          "output_type": "stream",
          "name": "stdout",
          "text": [
            "/content/aml_monet\n"
          ]
        }
      ]
    },
    {
      "cell_type": "code",
      "metadata": {
        "colab": {
          "base_uri": "https://localhost:8080/"
        },
        "id": "4I2c2TD4MaJw",
        "outputId": "fe5f0596-1d74-44eb-a712-2c88177ae058"
      },
      "source": [
        "!git status"
      ],
      "execution_count": 6,
      "outputs": [
        {
          "output_type": "stream",
          "name": "stdout",
          "text": [
            "On branch main\n",
            "Your branch is up to date with 'origin/main'.\n",
            "\n",
            "nothing to commit, working tree clean\n"
          ]
        }
      ]
    },
    {
      "cell_type": "code",
      "metadata": {
        "colab": {
          "base_uri": "https://localhost:8080/"
        },
        "id": "jjotLpOUMcGA",
        "outputId": "cc301f00-a05f-412a-e8d1-26dd40239fbe"
      },
      "source": [
        "from source.test import test_func\n",
        "test_func(\"hi\")"
      ],
      "execution_count": 7,
      "outputs": [
        {
          "output_type": "stream",
          "name": "stdout",
          "text": [
            "hi\n"
          ]
        }
      ]
    },
    {
      "cell_type": "code",
      "metadata": {
        "id": "fTtXi23PNIpR"
      },
      "source": [
        ""
      ],
      "execution_count": null,
      "outputs": []
    }
  ]
}