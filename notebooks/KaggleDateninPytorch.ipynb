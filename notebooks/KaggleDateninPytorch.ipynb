{
  "nbformat": 4,
  "nbformat_minor": 0,
  "metadata": {
    "colab": {
      "name": "KaggleDateninPytorch.ipynb",
      "provenance": [],
      "collapsed_sections": []
    },
    "kernelspec": {
      "name": "python3",
      "display_name": "Python 3"
    },
    "language_info": {
      "name": "python"
    }
  },
  "cells": [
    {
      "cell_type": "code",
      "metadata": {
        "id": "1rFc_W0UYgWN"
      },
      "source": [
        ""
      ],
      "execution_count": null,
      "outputs": []
    },
    {
      "cell_type": "markdown",
      "metadata": {
        "id": "QySrtumFYkTY"
      },
      "source": [
        "# Kleines Tutorial zum einbinden des Datensatzes\n",
        "\n",
        "Ihr erstellt in euren Google Drive den Ordner \"Kaggle\"\n",
        "Dort kopiert ihr die kaggle.json hin, die ihr erhaltet, wenn ihr in eurem Kaggle Profil auf Create New API Token klickt. \n",
        "Dann ladet ihr euch mit den Befehlen unten den Datensatz im tfrec (tensor flow record)-Format herunter und wandelt ihn in einen Pytorch-Datensatz um."
      ]
    },
    {
      "cell_type": "code",
      "metadata": {
        "colab": {
          "base_uri": "https://localhost:8080/"
        },
        "id": "IeCEMBHWWNdq",
        "outputId": "d7afe883-e8c3-469b-9376-2b4f897f2823"
      },
      "source": [
        "from google.colab import drive\n",
        "drive.mount(\"/content/gdrive\")"
      ],
      "execution_count": null,
      "outputs": [
        {
          "output_type": "stream",
          "name": "stdout",
          "text": [
            "Mounted at /content/gdrive\n"
          ]
        }
      ]
    },
    {
      "cell_type": "code",
      "metadata": {
        "id": "HWTBesjmWYYb"
      },
      "source": [
        "import os\n",
        "os.environ['KAGGLE_CONFIG_DIR'] = \"/content/gdrive/My Drive/Kaggle\"# /content/gdrive/My Drive/Kaggle is the path where kaggle.json is present in the Google Drive"
      ],
      "execution_count": null,
      "outputs": []
    },
    {
      "cell_type": "code",
      "metadata": {
        "colab": {
          "base_uri": "https://localhost:8080/"
        },
        "id": "ILArTOpTWlrB",
        "outputId": "f0b9f557-b0f1-4288-f411-b68d1d912bc5"
      },
      "source": [
        "#changing the working directory\n",
        "%cd /content/gdrive/My Drive/Kaggle\n",
        "#Check the present working directory using pwd command"
      ],
      "execution_count": null,
      "outputs": [
        {
          "output_type": "stream",
          "name": "stdout",
          "text": [
            "/content/gdrive/My Drive/Kaggle\n"
          ]
        }
      ]
    },
    {
      "cell_type": "code",
      "metadata": {
        "colab": {
          "base_uri": "https://localhost:8080/"
        },
        "id": "00jTeVa_Wroq",
        "outputId": "5af0ab78-e08d-40af-cd75-bb85db0e1dac"
      },
      "source": [
        "!kaggle competitions download -c gan-getting-started"
      ],
      "execution_count": null,
      "outputs": [
        {
          "output_type": "stream",
          "name": "stdout",
          "text": [
            "Warning: Looks like you're using an outdated API Version, please consider updating (server 1.5.12 / client 1.5.4)\n",
            "Downloading 00e1798585.jpg to /content/gdrive/My Drive/Kaggle\n",
            "  0% 0.00/13.5k [00:00<?, ?B/s]\n",
            "100% 13.5k/13.5k [00:00<00:00, 2.01MB/s]\n",
            "Downloading 00882b7e1d.jpg to /content/gdrive/My Drive/Kaggle\n",
            "  0% 0.00/8.27k [00:00<?, ?B/s]\n",
            "100% 8.27k/8.27k [00:00<00:00, 1.11MB/s]\n",
            "Downloading 009ddaed1f.jpg to /content/gdrive/My Drive/Kaggle\n",
            "  0% 0.00/16.4k [00:00<?, ?B/s]\n",
            "100% 16.4k/16.4k [00:00<00:00, 2.33MB/s]\n",
            "Downloading 00068bc07f.jpg to /content/gdrive/My Drive/Kaggle\n",
            "  0% 0.00/14.4k [00:00<?, ?B/s]\n",
            "100% 14.4k/14.4k [00:00<00:00, 1.91MB/s]\n",
            "Downloading 0033c5f971.jpg to /content/gdrive/My Drive/Kaggle\n",
            "  0% 0.00/9.20k [00:00<?, ?B/s]\n",
            "100% 9.20k/9.20k [00:00<00:00, 1.67MB/s]\n",
            "Downloading 000ded5c41.jpg to /content/gdrive/My Drive/Kaggle\n",
            "  0% 0.00/9.82k [00:00<?, ?B/s]\n",
            "100% 9.82k/9.82k [00:00<00:00, 1.26MB/s]\n",
            "Downloading 003aab6fdd.jpg to /content/gdrive/My Drive/Kaggle\n",
            "  0% 0.00/22.8k [00:00<?, ?B/s]\n",
            "100% 22.8k/22.8k [00:00<00:00, 3.10MB/s]\n",
            "Downloading 0080f94ebc.jpg to /content/gdrive/My Drive/Kaggle\n",
            "  0% 0.00/8.17k [00:00<?, ?B/s]\n",
            "100% 8.17k/8.17k [00:00<00:00, 2.09MB/s]\n",
            "Downloading 001158d595.jpg to /content/gdrive/My Drive/Kaggle\n",
            "  0% 0.00/10.9k [00:00<?, ?B/s]\n",
            "100% 10.9k/10.9k [00:00<00:00, 1.50MB/s]\n",
            "Downloading 000910d219.jpg to /content/gdrive/My Drive/Kaggle\n",
            "  0% 0.00/15.3k [00:00<?, ?B/s]\n",
            "100% 15.3k/15.3k [00:00<00:00, 2.10MB/s]\n",
            "Downloading 0039ebb598.jpg to /content/gdrive/My Drive/Kaggle\n",
            "  0% 0.00/8.66k [00:00<?, ?B/s]\n",
            "100% 8.66k/8.66k [00:00<00:00, 2.10MB/s]\n",
            "Downloading 00aeb60e25.jpg to /content/gdrive/My Drive/Kaggle\n",
            "  0% 0.00/13.5k [00:00<?, ?B/s]\n",
            "100% 13.5k/13.5k [00:00<00:00, 1.84MB/s]\n",
            "Downloading 005f987f56.jpg to /content/gdrive/My Drive/Kaggle\n",
            "  0% 0.00/4.28k [00:00<?, ?B/s]\n",
            "100% 4.28k/4.28k [00:00<00:00, 580kB/s]\n",
            "Downloading 00dff09ebe.jpg to /content/gdrive/My Drive/Kaggle\n",
            "  0% 0.00/10.1k [00:00<?, ?B/s]\n",
            "100% 10.1k/10.1k [00:00<00:00, 1.38MB/s]\n",
            "Downloading 00dcf0f1e3.jpg to /content/gdrive/My Drive/Kaggle\n",
            "  0% 0.00/12.2k [00:00<?, ?B/s]\n",
            "100% 12.2k/12.2k [00:00<00:00, 1.66MB/s]\n",
            "Downloading 009d534136.jpg to /content/gdrive/My Drive/Kaggle\n",
            "  0% 0.00/12.9k [00:00<?, ?B/s]\n",
            "100% 12.9k/12.9k [00:00<00:00, 1.70MB/s]\n",
            "Downloading 00c6a0ad1e.jpg to /content/gdrive/My Drive/Kaggle\n",
            "  0% 0.00/19.3k [00:00<?, ?B/s]\n",
            "100% 19.3k/19.3k [00:00<00:00, 2.65MB/s]\n",
            "Downloading 00479e2a21.jpg to /content/gdrive/My Drive/Kaggle\n",
            "  0% 0.00/5.99k [00:00<?, ?B/s]\n",
            "100% 5.99k/5.99k [00:00<00:00, 828kB/s]\n",
            "Downloading 003c6c30e0.jpg to /content/gdrive/My Drive/Kaggle\n",
            "  0% 0.00/13.5k [00:00<?, ?B/s]\n",
            "100% 13.5k/13.5k [00:00<00:00, 1.30MB/s]\n",
            "Downloading 00104fd531.jpg to /content/gdrive/My Drive/Kaggle\n",
            "  0% 0.00/7.76k [00:00<?, ?B/s]\n",
            "100% 7.76k/7.76k [00:00<00:00, 1.04MB/s]\n",
            "Downloading monet16-60.tfrec.zip to /content/gdrive/My Drive/Kaggle\n",
            "  0% 0.00/1.93M [00:00<?, ?B/s]\n",
            "100% 1.93M/1.93M [00:00<00:00, 61.0MB/s]\n",
            "Downloading monet04-60.tfrec.zip to /content/gdrive/My Drive/Kaggle\n",
            "  0% 0.00/1.94M [00:00<?, ?B/s]\n",
            "100% 1.94M/1.94M [00:00<00:00, 56.2MB/s]\n",
            "Downloading monet00-60.tfrec.zip to /content/gdrive/My Drive/Kaggle\n",
            "  0% 0.00/2.12M [00:00<?, ?B/s]\n",
            "100% 2.12M/2.12M [00:00<00:00, 70.4MB/s]\n",
            "Downloading monet08-60.tfrec.zip to /content/gdrive/My Drive/Kaggle\n",
            "  0% 0.00/1.87M [00:00<?, ?B/s]\n",
            "100% 1.87M/1.87M [00:00<00:00, 62.2MB/s]\n",
            "Downloading monet12-60.tfrec.zip to /content/gdrive/My Drive/Kaggle\n",
            "  0% 0.00/1.88M [00:00<?, ?B/s]\n",
            "100% 1.88M/1.88M [00:00<00:00, 55.7MB/s]\n",
            "Downloading photo11-352.tfrec.zip to /content/gdrive/My Drive/Kaggle\n",
            " 68% 9.00M/13.2M [00:01<00:00, 9.61MB/s]\n",
            "100% 13.2M/13.2M [00:01<00:00, 11.8MB/s]\n",
            "Downloading photo03-352.tfrec.zip to /content/gdrive/My Drive/Kaggle\n",
            " 71% 9.00M/12.8M [00:00<00:00, 14.9MB/s]\n",
            "100% 12.8M/12.8M [00:00<00:00, 19.7MB/s]\n",
            "Downloading photo07-352.tfrec.zip to /content/gdrive/My Drive/Kaggle\n",
            " 70% 9.00M/12.9M [00:00<00:00, 16.3MB/s]\n",
            "100% 12.9M/12.9M [00:00<00:00, 21.9MB/s]\n",
            "Downloading photo17-352.tfrec.zip to /content/gdrive/My Drive/Kaggle\n",
            " 68% 9.00M/13.2M [00:00<00:00, 15.8MB/s]\n",
            "100% 13.2M/13.2M [00:00<00:00, 20.8MB/s]\n",
            "Downloading photo13-352.tfrec.zip to /content/gdrive/My Drive/Kaggle\n",
            " 39% 5.00M/12.9M [00:00<00:00, 9.52MB/s]\n",
            "100% 12.9M/12.9M [00:00<00:00, 20.3MB/s]\n",
            "Downloading photo14-352.tfrec.zip to /content/gdrive/My Drive/Kaggle\n",
            " 68% 9.00M/13.2M [00:00<00:00, 17.3MB/s]\n",
            "100% 13.2M/13.2M [00:00<00:00, 22.4MB/s]\n",
            "Downloading photo15-352.tfrec.zip to /content/gdrive/My Drive/Kaggle\n",
            " 71% 9.00M/12.7M [00:00<00:00, 18.6MB/s]\n",
            "100% 12.7M/12.7M [00:00<00:00, 23.5MB/s]\n",
            "Downloading photo01-352.tfrec.zip to /content/gdrive/My Drive/Kaggle\n",
            " 71% 9.00M/12.7M [00:01<00:00, 9.22MB/s]\n",
            "100% 12.7M/12.7M [00:01<00:00, 10.1MB/s]\n",
            "Downloading photo12-352.tfrec.zip to /content/gdrive/My Drive/Kaggle\n",
            " 39% 5.00M/12.9M [00:00<00:00, 11.7MB/s]\n",
            "100% 12.9M/12.9M [00:00<00:00, 23.8MB/s]\n",
            "Downloading photo02-352.tfrec.zip to /content/gdrive/My Drive/Kaggle\n",
            " 71% 9.00M/12.6M [00:00<00:00, 15.5MB/s]\n",
            "100% 12.6M/12.6M [00:00<00:00, 19.9MB/s]\n",
            "Downloading photo08-352.tfrec.zip to /content/gdrive/My Drive/Kaggle\n",
            " 69% 9.00M/13.0M [00:00<00:00, 15.0MB/s]\n",
            "100% 13.0M/13.0M [00:00<00:00, 19.1MB/s]\n",
            "Downloading photo18-352.tfrec.zip to /content/gdrive/My Drive/Kaggle\n",
            " 71% 9.00M/12.6M [00:00<00:00, 17.6MB/s]\n",
            "100% 12.6M/12.6M [00:00<00:00, 25.6MB/s]\n",
            "Downloading photo09-352.tfrec.zip to /content/gdrive/My Drive/Kaggle\n",
            " 69% 9.00M/13.0M [00:00<00:00, 16.6MB/s]\n",
            "100% 13.0M/13.0M [00:00<00:00, 24.1MB/s]\n",
            "Downloading photo05-352.tfrec.zip to /content/gdrive/My Drive/Kaggle\n",
            " 67% 9.00M/13.4M [00:00<00:00, 13.8MB/s]\n",
            "100% 13.4M/13.4M [00:00<00:00, 18.3MB/s]\n",
            "Downloading photo04-352.tfrec.zip to /content/gdrive/My Drive/Kaggle\n",
            " 68% 9.00M/13.1M [00:00<00:00, 15.3MB/s]\n",
            "100% 13.1M/13.1M [00:00<00:00, 20.7MB/s]\n",
            "Downloading photo19-350.tfrec.zip to /content/gdrive/My Drive/Kaggle\n",
            " 70% 9.00M/12.9M [00:00<00:00, 12.3MB/s]\n",
            "100% 12.9M/12.9M [00:00<00:00, 15.6MB/s]\n",
            "Downloading photo10-352.tfrec.zip to /content/gdrive/My Drive/Kaggle\n",
            " 69% 9.00M/13.0M [00:00<00:00, 17.6MB/s]\n",
            "100% 13.0M/13.0M [00:00<00:00, 26.0MB/s]\n",
            "Downloading photo00-352.tfrec.zip to /content/gdrive/My Drive/Kaggle\n",
            " 69% 9.00M/13.1M [00:01<00:00, 10.6MB/s]\n",
            "100% 13.1M/13.1M [00:01<00:00, 12.9MB/s]\n",
            "Downloading photo16-352.tfrec.zip to /content/gdrive/My Drive/Kaggle\n",
            " 39% 5.00M/12.8M [00:01<00:02, 3.80MB/s]\n",
            "100% 12.8M/12.8M [00:01<00:00, 9.11MB/s]\n",
            "Downloading photo06-352.tfrec.zip to /content/gdrive/My Drive/Kaggle\n",
            " 69% 9.00M/13.0M [00:00<00:00, 12.5MB/s]\n",
            "100% 13.0M/13.0M [00:00<00:00, 15.7MB/s]\n",
            "Downloading 0a5075d42a.jpg to /content/gdrive/My Drive/Kaggle\n",
            "  0% 0.00/19.4k [00:00<?, ?B/s]\n",
            "100% 19.4k/19.4k [00:00<00:00, 2.66MB/s]\n",
            "Downloading 1078363ff0.jpg to /content/gdrive/My Drive/Kaggle\n",
            "  0% 0.00/17.6k [00:00<?, ?B/s]\n",
            "100% 17.6k/17.6k [00:00<00:00, 2.20MB/s]\n",
            "Downloading 049e293b93.jpg to /content/gdrive/My Drive/Kaggle\n",
            "  0% 0.00/11.8k [00:00<?, ?B/s]\n",
            "100% 11.8k/11.8k [00:00<00:00, 1.64MB/s]\n",
            "Downloading 058f878b7c.jpg to /content/gdrive/My Drive/Kaggle\n",
            "  0% 0.00/14.7k [00:00<?, ?B/s]\n",
            "100% 14.7k/14.7k [00:00<00:00, 2.05MB/s]\n",
            "Downloading 011835cfbf.jpg to /content/gdrive/My Drive/Kaggle\n",
            "  0% 0.00/23.4k [00:00<?, ?B/s]\n",
            "100% 23.4k/23.4k [00:00<00:00, 3.27MB/s]\n",
            "Downloading 052a77c020.jpg to /content/gdrive/My Drive/Kaggle\n",
            "  0% 0.00/18.1k [00:00<?, ?B/s]\n",
            "100% 18.1k/18.1k [00:00<00:00, 2.51MB/s]\n",
            "Downloading 064487d630.jpg to /content/gdrive/My Drive/Kaggle\n",
            "  0% 0.00/13.4k [00:00<?, ?B/s]\n",
            "100% 13.4k/13.4k [00:00<00:00, 3.54MB/s]\n",
            "Downloading 05144e306f.jpg to /content/gdrive/My Drive/Kaggle\n",
            "  0% 0.00/11.3k [00:00<?, ?B/s]\n",
            "100% 11.3k/11.3k [00:00<00:00, 3.30MB/s]\n",
            "Downloading 118da0690c.jpg to /content/gdrive/My Drive/Kaggle\n",
            "  0% 0.00/19.7k [00:00<?, ?B/s]\n",
            "100% 19.7k/19.7k [00:00<00:00, 2.77MB/s]\n",
            "Downloading 0bd913dbc7.jpg to /content/gdrive/My Drive/Kaggle\n",
            "  0% 0.00/18.0k [00:00<?, ?B/s]\n",
            "100% 18.0k/18.0k [00:00<00:00, 4.77MB/s]\n",
            "Downloading 106757e5d8.jpg to /content/gdrive/My Drive/Kaggle\n",
            "  0% 0.00/11.2k [00:00<?, ?B/s]\n",
            "100% 11.2k/11.2k [00:00<00:00, 2.99MB/s]\n",
            "Downloading 09b76b6471.jpg to /content/gdrive/My Drive/Kaggle\n",
            "  0% 0.00/25.4k [00:00<?, ?B/s]\n",
            "100% 25.4k/25.4k [00:00<00:00, 3.55MB/s]\n",
            "Downloading 07fcaee35f.jpg to /content/gdrive/My Drive/Kaggle\n",
            "  0% 0.00/9.16k [00:00<?, ?B/s]\n",
            "100% 9.16k/9.16k [00:00<00:00, 2.76MB/s]\n",
            "Downloading 10c555c1b1.jpg to /content/gdrive/My Drive/Kaggle\n",
            "  0% 0.00/17.6k [00:00<?, ?B/s]\n",
            "100% 17.6k/17.6k [00:00<00:00, 4.05MB/s]\n",
            "Downloading 000c1e3bff.jpg to /content/gdrive/My Drive/Kaggle\n",
            "  0% 0.00/13.0k [00:00<?, ?B/s]\n",
            "100% 13.0k/13.0k [00:00<00:00, 1.75MB/s]\n",
            "Downloading 0e3b3292da.jpg to /content/gdrive/My Drive/Kaggle\n",
            "  0% 0.00/11.1k [00:00<?, ?B/s]\n",
            "100% 11.1k/11.1k [00:00<00:00, 1.58MB/s]\n",
            "Downloading 066fe4cbaa.jpg to /content/gdrive/My Drive/Kaggle\n",
            "  0% 0.00/17.9k [00:00<?, ?B/s]\n",
            "100% 17.9k/17.9k [00:00<00:00, 2.42MB/s]\n",
            "Downloading 0260d15306.jpg to /content/gdrive/My Drive/Kaggle\n",
            "  0% 0.00/10.4k [00:00<?, ?B/s]\n",
            "100% 10.4k/10.4k [00:00<00:00, 1.47MB/s]\n",
            "Downloading 11ab570c5e.jpg to /content/gdrive/My Drive/Kaggle\n",
            "  0% 0.00/16.3k [00:00<?, ?B/s]\n",
            "100% 16.3k/16.3k [00:00<00:00, 2.21MB/s]\n",
            "Downloading 05b493ff42.jpg to /content/gdrive/My Drive/Kaggle\n",
            "  0% 0.00/15.0k [00:00<?, ?B/s]\n",
            "100% 15.0k/15.0k [00:00<00:00, 2.10MB/s]\n"
          ]
        }
      ]
    },
    {
      "cell_type": "code",
      "metadata": {
        "colab": {
          "base_uri": "https://localhost:8080/"
        },
        "id": "Tm8GGHh7W3aq",
        "outputId": "a376e1ef-9cf9-4dfe-8eff-79cb0791bf95"
      },
      "source": [
        "#unzipping the zip files and deleting the zip files\n",
        "!unzip \\*.zip  && rm *.zip"
      ],
      "execution_count": null,
      "outputs": [
        {
          "output_type": "stream",
          "name": "stdout",
          "text": [
            "Archive:  monet16-60.tfrec.zip\n",
            "  inflating: monet16-60.tfrec        \n",
            "\n",
            "Archive:  monet04-60.tfrec.zip\n",
            "  inflating: monet04-60.tfrec        \n",
            "\n",
            "Archive:  monet00-60.tfrec.zip\n",
            "  inflating: monet00-60.tfrec        \n",
            "\n",
            "Archive:  monet08-60.tfrec.zip\n",
            "  inflating: monet08-60.tfrec        \n",
            "\n",
            "Archive:  monet12-60.tfrec.zip\n",
            "  inflating: monet12-60.tfrec        \n",
            "\n",
            "Archive:  photo11-352.tfrec.zip\n",
            "  inflating: photo11-352.tfrec       \n",
            "\n",
            "Archive:  photo03-352.tfrec.zip\n",
            "  inflating: photo03-352.tfrec       \n",
            "\n",
            "Archive:  photo07-352.tfrec.zip\n",
            "  inflating: photo07-352.tfrec       \n",
            "\n",
            "Archive:  photo17-352.tfrec.zip\n",
            "  inflating: photo17-352.tfrec       \n",
            "\n",
            "Archive:  photo13-352.tfrec.zip\n",
            "  inflating: photo13-352.tfrec       \n",
            "\n",
            "Archive:  photo14-352.tfrec.zip\n",
            "  inflating: photo14-352.tfrec       \n",
            "\n",
            "Archive:  photo15-352.tfrec.zip\n",
            "  inflating: photo15-352.tfrec       \n",
            "\n",
            "Archive:  photo01-352.tfrec.zip\n",
            "  inflating: photo01-352.tfrec       \n",
            "\n",
            "Archive:  photo12-352.tfrec.zip\n",
            "  inflating: photo12-352.tfrec       \n",
            "\n",
            "Archive:  photo02-352.tfrec.zip\n",
            "  inflating: photo02-352.tfrec       \n",
            "\n",
            "Archive:  photo08-352.tfrec.zip\n",
            "  inflating: photo08-352.tfrec       \n",
            "\n",
            "Archive:  photo18-352.tfrec.zip\n",
            "  inflating: photo18-352.tfrec       \n",
            "\n",
            "Archive:  photo09-352.tfrec.zip\n",
            "  inflating: photo09-352.tfrec       \n",
            "\n",
            "Archive:  photo05-352.tfrec.zip\n",
            "  inflating: photo05-352.tfrec       \n",
            "\n",
            "Archive:  photo04-352.tfrec.zip\n",
            "  inflating: photo04-352.tfrec       \n",
            "\n",
            "Archive:  photo19-350.tfrec.zip\n",
            "  inflating: photo19-350.tfrec       \n",
            "\n",
            "Archive:  photo10-352.tfrec.zip\n",
            "  inflating: photo10-352.tfrec       \n",
            "\n",
            "Archive:  photo00-352.tfrec.zip\n",
            "  inflating: photo00-352.tfrec       \n",
            "\n",
            "Archive:  photo16-352.tfrec.zip\n",
            "  inflating: photo16-352.tfrec       \n",
            "\n",
            "Archive:  photo06-352.tfrec.zip\n",
            "  inflating: photo06-352.tfrec       \n",
            "\n",
            "25 archives were successfully processed.\n"
          ]
        }
      ]
    },
    {
      "cell_type": "code",
      "metadata": {
        "colab": {
          "base_uri": "https://localhost:8080/"
        },
        "id": "hZgN44BXXUyC",
        "outputId": "c5765afc-a17b-477f-9649-32b8ede7ca93"
      },
      "source": [
        "!ls"
      ],
      "execution_count": null,
      "outputs": [
        {
          "output_type": "stream",
          "name": "stdout",
          "text": [
            "00068bc07f.jpg\t00c6a0ad1e.jpg\t0e3b3292da.jpg\t      photo04-352.tfrec\n",
            "000910d219.jpg\t00dcf0f1e3.jpg\t106757e5d8.jpg\t      photo05-352.tfrec\n",
            "000c1e3bff.jpg\t00dff09ebe.jpg\t1078363ff0.jpg\t      photo06-352.tfrec\n",
            "000ded5c41.jpg\t00e1798585.jpg\t10c555c1b1.jpg\t      photo07-352.tfrec\n",
            "00104fd531.jpg\t011835cfbf.jpg\t118da0690c.jpg\t      photo08-352.tfrec\n",
            "001158d595.jpg\t0260d15306.jpg\t11ab570c5e.jpg\t      photo09-352.tfrec\n",
            "0033c5f971.jpg\t049e293b93.jpg\tKaggleDownload.ipynb  photo10-352.tfrec\n",
            "0039ebb598.jpg\t05144e306f.jpg\tkaggle.json\t      photo11-352.tfrec\n",
            "003aab6fdd.jpg\t052a77c020.jpg\tmonet00-60.tfrec      photo12-352.tfrec\n",
            "003c6c30e0.jpg\t058f878b7c.jpg\tmonet04-60.tfrec      photo13-352.tfrec\n",
            "00479e2a21.jpg\t05b493ff42.jpg\tmonet08-60.tfrec      photo14-352.tfrec\n",
            "005f987f56.jpg\t064487d630.jpg\tmonet12-60.tfrec      photo15-352.tfrec\n",
            "0080f94ebc.jpg\t066fe4cbaa.jpg\tmonet16-60.tfrec      photo16-352.tfrec\n",
            "00882b7e1d.jpg\t07fcaee35f.jpg\tphoto00-352.tfrec     photo17-352.tfrec\n",
            "009d534136.jpg\t09b76b6471.jpg\tphoto01-352.tfrec     photo18-352.tfrec\n",
            "009ddaed1f.jpg\t0a5075d42a.jpg\tphoto02-352.tfrec     photo19-350.tfrec\n",
            "00aeb60e25.jpg\t0bd913dbc7.jpg\tphoto03-352.tfrec\n"
          ]
        }
      ]
    },
    {
      "cell_type": "code",
      "metadata": {
        "id": "Pz9yh46BXVNY"
      },
      "source": [
        ""
      ],
      "execution_count": null,
      "outputs": []
    },
    {
      "cell_type": "markdown",
      "metadata": {
        "id": "jLCaAEWfLXzQ"
      },
      "source": [
        "## Preliminaries"
      ]
    },
    {
      "cell_type": "code",
      "metadata": {
        "colab": {
          "base_uri": "https://localhost:8080/"
        },
        "id": "rckulRKGmhhN",
        "outputId": "b6c09c7d-9028-46c8-e215-e85b9e7570d6"
      },
      "source": [
        "import glob\n",
        "train_files = glob.glob(\"monet*.tfrec\")\n",
        "print(train_files)"
      ],
      "execution_count": null,
      "outputs": [
        {
          "output_type": "stream",
          "name": "stdout",
          "text": [
            "['monet00-60.tfrec', 'monet08-60.tfrec', 'monet04-60.tfrec', 'monet12-60.tfrec', 'monet16-60.tfrec']\n"
          ]
        }
      ]
    },
    {
      "cell_type": "code",
      "metadata": {
        "id": "fxapSX04mPHt"
      },
      "source": [
        "# importing tensorfow to read .tfrec files\n",
        "import tensorflow as tf\n",
        "# Create a dictionary describing the features.\n",
        "train_feature_description = {\n",
        "    'image': tf.io.FixedLenFeature([], tf.string),\n",
        "}\n",
        "\n",
        "def _parse_image_function(example_proto):\n",
        " return tf.io.parse_single_example(example_proto, train_feature_description)"
      ],
      "execution_count": null,
      "outputs": []
    },
    {
      "cell_type": "code",
      "metadata": {
        "id": "SBLJ-OEkmu1k"
      },
      "source": [
        "train_images = []\n",
        "for i in train_files:\n",
        "  train_image_dataset = tf.data.TFRecordDataset(i)\n",
        "  train_image_dataset = train_image_dataset.map(_parse_image_function)\n",
        "  images = [image_features['image'].numpy() for image_features in train_image_dataset]\n",
        "  train_images = train_images + images"
      ],
      "execution_count": null,
      "outputs": []
    },
    {
      "cell_type": "code",
      "metadata": {
        "colab": {
          "base_uri": "https://localhost:8080/",
          "height": 273
        },
        "id": "L4RvI9TxQKwC",
        "outputId": "d40d7887-a6ef-4e24-8f99-207c2227f800"
      },
      "source": [
        "import IPython.display as display\n",
        "display.display(display.Image(data=train_images[24]))"
      ],
      "execution_count": null,
      "outputs": [
        {
          "output_type": "display_data",
          "data": {
            "image/jpeg": "[encoded data removed]",
            "text/plain": [
              "<IPython.core.display.Image object>"
            ]
          },
          "metadata": {}
        }
      ]
    },
    {
      "cell_type": "code",
      "metadata": {
        "id": "kxB5Ey73QgWW"
      },
      "source": [
        "from PIL import Image\n",
        "import cv2\n",
        "import albumentations\n",
        "import torch\n",
        "import numpy as np\n",
        "import io\n",
        "from torch.utils.data import Dataset"
      ],
      "execution_count": null,
      "outputs": []
    },
    {
      "cell_type": "code",
      "metadata": {
        "id": "fCizUf0sQjO6"
      },
      "source": [
        "class MonetDataset(Dataset):\n",
        "  #Resize dataset, normalise data and augment if is_valid = 0\n",
        "  def __init__(self, image, img_height, img_width, mean = (0, 0, 0), std  = (1, 1, 1), is_valid = 1):\n",
        "    self.image = image\n",
        "    self.img_height = img_height\n",
        "    self.img_width = img_width\n",
        "    self.is_valid  = is_valid\n",
        "    if self.is_valid == 1:\n",
        "      self.aug = albumentations.Compose([\n",
        "                                         albumentations.Resize(img_height, img_width, always_apply = True),\n",
        "                                         albumentations.Normalize(mean, std, always_apply = True)\n",
        "      ])\n",
        "    else:\n",
        "      #Apply affine transformations to scale, shift and rotate input images\n",
        "      self.aug = albumentations.Compose([\n",
        "                                         albumentations.Resize(img_height, img_width, always_apply = True),\n",
        "                                         albumentations.Normalize(mean, std, always_apply = True),\n",
        "                                         albumentations.ShiftScaleRotate(shift_limit = 0.0625, \n",
        "                                                                         scale_limit = 0.1, \n",
        "                                                                         rotate_limit = 5,\n",
        "                                                                         p = 0.9)\n",
        "      ])\n",
        "\n",
        "  def __len__(self):\n",
        "    return len(train_images)\n",
        "\n",
        "  def __getitem__(self, index):\n",
        "    img = np.array(Image.open(io.BytesIO(self.image[index]))) # Converting images from bytes to numpy array\n",
        "    img = cv2.resize(img, dsize=(self.img_width, self.img_height), interpolation = cv2.INTER_CUBIC)\n",
        "    img = self.aug(image = img)[\"image\"]\n",
        "    img = np.transpose(img, (2,0,1)).astype(np.float32) # changing format s.t. pytorch will accept it\n",
        "    return torch.tensor(img, dtype = torch.float)"
      ],
      "execution_count": null,
      "outputs": []
    },
    {
      "cell_type": "code",
      "metadata": {
        "id": "f_jlbkH6SPf6"
      },
      "source": [
        "train_dataset = MonetDataset(image = train_images, img_height = 32, img_width = 32)"
      ],
      "execution_count": null,
      "outputs": []
    },
    {
      "cell_type": "code",
      "metadata": {
        "colab": {
          "base_uri": "https://localhost:8080/",
          "height": 683
        },
        "id": "7YJf9thETDLC",
        "outputId": "c23e4272-2a6d-4cbc-fccf-0fdc2fa0c93e"
      },
      "source": [
        "import matplotlib.pyplot as plt\n",
        "%matplotlib inline\n",
        "id = 91\n",
        "img = train_dataset[id]\n",
        "print(img)\n",
        "npimg = img.numpy()\n",
        "plt.imshow(np.transpose(npimg, (1, 2, 0)))"
      ],
      "execution_count": null,
      "outputs": [
        {
          "output_type": "stream",
          "name": "stdout",
          "text": [
            "tensor([[[0.6784, 0.5686, 0.6627,  ..., 0.7333, 0.6980, 0.6588],\n",
            "         [0.7255, 0.5882, 0.6118,  ..., 0.6667, 0.6824, 0.6235],\n",
            "         [0.6588, 0.5294, 0.5451,  ..., 0.6980, 0.7098, 0.6706],\n",
            "         ...,\n",
            "         [0.6667, 0.6824, 0.7059,  ..., 0.2314, 0.3725, 0.3529],\n",
            "         [0.6824, 0.5961, 0.5882,  ..., 0.2078, 0.2784, 0.2745],\n",
            "         [0.6980, 0.6745, 0.6706,  ..., 0.2824, 0.3059, 0.2824]],\n",
            "\n",
            "        [[0.5922, 0.5922, 0.5176,  ..., 0.6196, 0.5725, 0.5451],\n",
            "         [0.6000, 0.5608, 0.5255,  ..., 0.5647, 0.5647, 0.5294],\n",
            "         [0.5922, 0.5451, 0.5216,  ..., 0.5843, 0.5843, 0.5608],\n",
            "         ...,\n",
            "         [0.4784, 0.5137, 0.5059,  ..., 0.2314, 0.3137, 0.3059],\n",
            "         [0.5059, 0.4510, 0.4549,  ..., 0.2510, 0.2980, 0.2549],\n",
            "         [0.5098, 0.4980, 0.5059,  ..., 0.2627, 0.2392, 0.2157]],\n",
            "\n",
            "        [[0.4235, 0.5137, 0.3490,  ..., 0.4627, 0.3922, 0.3725],\n",
            "         [0.4392, 0.5020, 0.4157,  ..., 0.4392, 0.4118, 0.3922],\n",
            "         [0.4471, 0.4314, 0.4039,  ..., 0.4118, 0.4196, 0.4078],\n",
            "         ...,\n",
            "         [0.2392, 0.2667, 0.3059,  ..., 0.1647, 0.2471, 0.2627],\n",
            "         [0.2745, 0.2510, 0.2392,  ..., 0.1882, 0.2510, 0.1765],\n",
            "         [0.3255, 0.2627, 0.2235,  ..., 0.2627, 0.2235, 0.2078]]])\n"
          ]
        },
        {
          "output_type": "execute_result",
          "data": {
            "text/plain": [
              "<matplotlib.image.AxesImage at 0x7f1825ff49d0>"
            ]
          },
          "metadata": {},
          "execution_count": 81
        },
        {
          "output_type": "display_data",
          "data": {
            "image/png": "[encoded data removed]",
            "text/plain": [
              "<Figure size 432x288 with 1 Axes>"
            ]
          },
          "metadata": {
            "needs_background": "light"
          }
        }
      ]
    },
    {
      "cell_type": "code",
      "metadata": {
        "colab": {
          "base_uri": "https://localhost:8080/"
        },
        "id": "ngCkaiEHLXzS",
        "outputId": "77a30c81-d0df-4478-e07a-daafcf45432d"
      },
      "source": [
        "import torch\n",
        "import torch.nn as nn\n",
        "import torch.nn.functional as F\n",
        "import torch.optim as optim\n",
        "from torchvision import datasets, transforms\n",
        "from torch.autograd import Variable\n",
        "from torchvision.utils import save_image\n",
        "\n",
        "import matplotlib.pyplot as plt\n",
        "import numpy as np\n",
        "\n",
        "if torch.cuda.is_available():\n",
        "    device = 'cuda'\n",
        "else:\n",
        "    device = 'cpu'\n",
        "print(device)\n",
        "\n",
        "batch_size = 10\n",
        "\n",
        "# MNIST Dataset\n",
        "#train_dataset = datasets.MNIST(root='./mnist_data/', train=True, transform=transforms.ToTensor(), download=True)\n",
        "#test_dataset = datasets.MNIST(root='./mnist_data/', train=False, transform=transforms.ToTensor(), download=False)\n",
        "\n",
        "# Data Loader (Input Pipeline)\n",
        "train_loader = torch.utils.data.DataLoader(dataset=train_dataset, batch_size=batch_size, shuffle=False)\n",
        "#test_loader = torch.utils.data.DataLoader(dataset=test_dataset, batch_size=batch_size, shuffle=False)\n",
        "\n",
        "img_width = 32\n",
        "img_height = 32"
      ],
      "execution_count": null,
      "outputs": [
        {
          "output_type": "stream",
          "name": "stdout",
          "text": [
            "cuda\n"
          ]
        }
      ]
    }
  ]
}