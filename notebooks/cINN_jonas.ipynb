{
  "nbformat": 4,
  "nbformat_minor": 0,
  "metadata": {
    "colab": {
      "name": "cINN_jonas.ipynb",
      "provenance": [],
      "authorship_tag": "ABX9TyPuZswu922KdiBHdH6MtVpz",
      "include_colab_link": true
    },
    "kernelspec": {
      "name": "python3",
      "display_name": "Python 3"
    },
    "language_info": {
      "name": "python"
    },
    "accelerator": "GPU"
  },
  "cells": [
    {
      "cell_type": "markdown",
      "metadata": {
        "id": "view-in-github",
        "colab_type": "text"
      },
      "source": [
        "<a href=\"https://colab.research.google.com/github/JonasHell/aml_monet/blob/main/notebooks/cINN_jonas.ipynb\" target=\"_parent\"><img src=\"https://colab.research.google.com/assets/colab-badge.svg\" alt=\"Open In Colab\"/></a>"
      ]
    },
    {
      "cell_type": "markdown",
      "metadata": {
        "id": "ieRcP2aCCKEC"
      },
      "source": [
        "#Install framework\n",
        "Install the INN framework:"
      ]
    },
    {
      "cell_type": "code",
      "metadata": {
        "colab": {
          "base_uri": "https://localhost:8080/",
          "height": 511
        },
        "id": "xRUTop2n_hix",
        "outputId": "9f14e0de-bab3-4c1c-8c19-f671fa00c456"
      },
      "source": [
        "!pip install git+https://github.com/VLL-HD/FrEIA.git"
      ],
      "execution_count": 4,
      "outputs": [
        {
          "output_type": "stream",
          "name": "stdout",
          "text": [
            "Collecting git+https://github.com/VLL-HD/FrEIA.git\n",
            "  Cloning https://github.com/VLL-HD/FrEIA.git to /tmp/pip-req-build-ddnukmx2\n",
            "  Running command git clone -q https://github.com/VLL-HD/FrEIA.git /tmp/pip-req-build-ddnukmx2\n",
            "Requirement already satisfied: numpy>=1.15.0 in /usr/local/lib/python3.7/dist-packages (from FrEIA==0.2) (1.19.5)\n",
            "Collecting scipy>=1.5\n",
            "  Downloading scipy-1.7.1-cp37-cp37m-manylinux_2_5_x86_64.manylinux1_x86_64.whl (28.5 MB)\n",
            "\u001b[K     |████████████████████████████████| 28.5 MB 47 kB/s \n",
            "\u001b[?25hRequirement already satisfied: torch>=1.0.0 in /usr/local/lib/python3.7/dist-packages (from FrEIA==0.2) (1.9.0+cu102)\n",
            "Requirement already satisfied: typing-extensions in /usr/local/lib/python3.7/dist-packages (from torch>=1.0.0->FrEIA==0.2) (3.7.4.3)\n",
            "Building wheels for collected packages: FrEIA\n",
            "  Building wheel for FrEIA (setup.py) ... \u001b[?25l\u001b[?25hdone\n",
            "  Created wheel for FrEIA: filename=FrEIA-0.2-py3-none-any.whl size=48967 sha256=1cda3095a5f6f0179db330d2cff2d84c5f61626480f707656f12bd8d8398d6b1\n",
            "  Stored in directory: /tmp/pip-ephem-wheel-cache-w0ce_bum/wheels/ce/20/ea/82f4b732f0705014bd0b340c3375d25aa89491a98a49ec4b8f\n",
            "Successfully built FrEIA\n",
            "Installing collected packages: scipy, FrEIA\n",
            "  Attempting uninstall: scipy\n",
            "    Found existing installation: scipy 1.4.1\n",
            "    Uninstalling scipy-1.4.1:\n",
            "      Successfully uninstalled scipy-1.4.1\n",
            "\u001b[31mERROR: pip's dependency resolver does not currently take into account all the packages that are installed. This behaviour is the source of the following dependency conflicts.\n",
            "albumentations 0.1.12 requires imgaug<0.2.7,>=0.2.5, but you have imgaug 0.2.9 which is incompatible.\u001b[0m\n",
            "Successfully installed FrEIA-0.2 scipy-1.7.1\n"
          ]
        },
        {
          "output_type": "display_data",
          "data": {
            "application/vnd.colab-display-data+json": {
              "pip_warning": {
                "packages": [
                  "scipy"
                ]
              }
            }
          },
          "metadata": {}
        }
      ]
    },
    {
      "cell_type": "code",
      "metadata": {
        "colab": {
          "base_uri": "https://localhost:8080/"
        },
        "id": "TnTm5WO9D-j_",
        "outputId": "8a07d95d-a8ed-4248-8741-146530d9d557"
      },
      "source": [
        "!pip list | grep Fr"
      ],
      "execution_count": 2,
      "outputs": [
        {
          "output_type": "stream",
          "name": "stdout",
          "text": [
            "FrEIA                         0.2\n"
          ]
        }
      ]
    },
    {
      "cell_type": "markdown",
      "metadata": {
        "id": "5AiHX79bDmKk"
      },
      "source": [
        "#Check installation\n",
        "Run basic usage example to check if installtion worked.\n",
        "Make sure to select **GPU runtime** first."
      ]
    },
    {
      "cell_type": "code",
      "metadata": {
        "id": "75GKzprhCJJP"
      },
      "source": [
        "# standard imports\n",
        "import torch\n",
        "import torch.nn as nn\n",
        "from sklearn.datasets import make_moons\n",
        "\n",
        "# FrEIA imports\n",
        "import FrEIA.framework as Ff\n",
        "import FrEIA.modules as Fm\n",
        "\n",
        "BATCHSIZE = 100\n",
        "N_DIM = 2\n",
        "\n",
        "# we define a subnet for use inside an affine coupling block\n",
        "# for more detailed information see the full tutorial\n",
        "def subnet_fc(dims_in, dims_out):\n",
        "    return nn.Sequential(nn.Linear(dims_in, 512), nn.ReLU(),\n",
        "                         nn.Linear(512,  dims_out))\n",
        "\n",
        "# a simple chain of operations is collected by ReversibleSequential\n",
        "inn = Ff.SequenceINN(N_DIM)\n",
        "for k in range(8):\n",
        "    inn.append(Fm.AllInOneBlock, subnet_constructor=subnet_fc, permute_soft=True)\n",
        "\n",
        "optimizer = torch.optim.Adam(inn.parameters(), lr=0.001)\n",
        "\n",
        "# a very basic training loop\n",
        "for i in range(1000):\n",
        "    optimizer.zero_grad()\n",
        "    # sample data from the moons distribution\n",
        "    data, label = make_moons(n_samples=BATCHSIZE, noise=0.05)\n",
        "    x = torch.Tensor(data)\n",
        "    # pass to INN and get transformed variable z and log Jacobian determinant\n",
        "    z, log_jac_det = inn(x)\n",
        "    # calculate the negative log-likelihood of the model with a standard normal prior\n",
        "    loss = 0.5*torch.sum(z**2, 1) - log_jac_det\n",
        "    loss = loss.mean() / N_DIM\n",
        "    # backpropagate and update the weights\n",
        "    loss.backward()\n",
        "    optimizer.step()\n",
        "\n",
        "# sample from the INN by sampling from a standard normal and transforming\n",
        "# it in the reverse direction\n",
        "z = torch.randn(BATCHSIZE, N_DIM)\n",
        "samples, _ = inn(z, rev=True)\n",
        "\n"
      ],
      "execution_count": 3,
      "outputs": []
    },
    {
      "cell_type": "code",
      "metadata": {
        "colab": {
          "base_uri": "https://localhost:8080/",
          "height": 265
        },
        "id": "yugcybA3FMSR",
        "outputId": "f09ce280-28ee-42d4-9bbc-3498d01b763e"
      },
      "source": [
        "import matplotlib.pyplot as plt\n",
        "with torch.no_grad():\n",
        "  plt.scatter(samples[:, 0], samples[:, 1])"
      ],
      "execution_count": 12,
      "outputs": [
        {
          "output_type": "display_data",
          "data": {
            "image/png": "[encoded data removed]",
            "text/plain": [
              "<Figure size 432x288 with 1 Axes>"
            ]
          },
          "metadata": {
            "needs_background": "light"
          }
        }
      ]
    },
    {
      "cell_type": "markdown",
      "metadata": {
        "id": "9ajcYIC_Gl3V"
      },
      "source": [
        "#Design cINN\n",
        "Design our own cINN."
      ]
    },
    {
      "cell_type": "code",
      "metadata": {
        "id": "PPVw_HJnFcEP"
      },
      "source": [
        "import torch\n",
        "import torch.nn as nn\n",
        "import torch.optim\n",
        "\n",
        "import FrEIA.framework as Ff\n",
        "import FrEIA.modules as Fm\n",
        "\n",
        "\n",
        "class CondNet(nn.Module):\n",
        "  #TODO\n",
        "  pass\n",
        "\n",
        "class MonetCINN(nn.Module):\n",
        "  def __init__(self, learning_rate):\n",
        "    super().__init__()\n",
        "\n",
        "    self.cinn = self.create_cinn()\n",
        "\n",
        "  def create_cinn(self):\n",
        "    \n",
        "    def subnet_conv(hidden_channels_1, hidden_channels_2, kernel_size):\n",
        "      padding = kernel_size // 2\n",
        "      return lambda in_channels, out_channels: nn.Sequential(\n",
        "          nn.Conv2d(in_channels, hidden_channels_1, kernel_size, padding=padding),\n",
        "          nn.ReLU(),\n",
        "          nn.Conv2d(hidden_channels_1, hidden_channels_2, kernel_size, padding=padding),\n",
        "          nn.ReLU(),\n",
        "          nn.BatchNorm2d(hidden_channels_2),\n",
        "          nn.Conv2d(hidden_channels_2, out_channels, kernel_size, padding=padding)\n",
        "      )"
      ],
      "execution_count": null,
      "outputs": []
    }
  ]
}